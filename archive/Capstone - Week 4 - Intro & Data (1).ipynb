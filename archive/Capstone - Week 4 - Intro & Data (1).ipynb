{
 "cells": [
  {
   "cell_type": "markdown",
   "metadata": {},
   "source": [
    "# Introduction"
   ]
  },
  {
   "cell_type": "markdown",
   "metadata": {},
   "source": [
    "Often called, the city 'that never sleeps' New York City is a city known around the world for food, fashion, and culture. Manhattan, a borough, is known as one of the most expensive real estate areas in the world based and an epicenter for tourists and residents alike. For a city that never sleeps, there must be major opportunities to start a 24/7 coffee shop within Manhattan. The goal of this project will be to help identify where to open our new business venture: '24/7 Caffeine Queen.' "
   ]
  },
  {
   "cell_type": "markdown",
   "metadata": {},
   "source": [
    "# Data"
   ]
  },
  {
   "cell_type": "markdown",
   "metadata": {},
   "source": [
    "Ideally, we would like to open our shop up where there are not too many coffee shops nearby, but also where there may be several bookstores based on previous reports that foot traffic to bookstores drives customers to purchase beverages nearby (link 1: https://www.bookweb.org/news/coffee-talk-booksellers-pros-and-cons-bookstore-caf%C3%A9s-%E2%80%93-part-ii, link 2: https://sprudge.com/books-and-coffee-90866.html).  \n",
    "\n",
    "\n",
    "To make a recommendation to our business invenstors, we will use Foursquare API data on venues within Manhattan neighborhoods to determine which have bookstores and/or coffee shops. This information comes from Foursquares categories of venues, found here:\n",
    "\n",
    "https://developer.foursquare.com/docs/build-with-foursquare/categories/\n",
    "\n",
    "\n",
    "From their Developer resources, there are three categories of bookstores listed:\n",
    "\n",
    "1. Bookstores\n",
    "2. College Bookstores\n",
    "3. Used Bookstores\n",
    "\n",
    "There are also four categories including coffee:\n",
    "\n",
    "1. Coffee Shops\n",
    "2. Coffee Roasters\n",
    "3. Corporate Coffee Shops\n",
    "4. Turkish Coffeehouse\n",
    "\n",
    "This analysis will only use the *Coffee Shop* category for our segmenting analysis combined with *Bookstores* and *Used Bookstores* to explore each neighborhood. This information will also be populated on a visual map with the clustering technique *k-means.*\n",
    "\n",
    "Below is an example map created with typical vendues found in Manhattan. We will use similar clustering technique on this visual map with Folium to depict the highest conentration of bookstores and coffee shops to aid in our decision. With this information, our business investors, **our target audience**, can prioritize their real estate searches and determine the top two neighborhoods they should consider for opening up our coffee shop venture.\n",
    "\n",
    "**Example Map of Manhattan**"
   ]
  },
  {
   "cell_type": "markdown",
   "metadata": {},
   "source": [
    "<img src=\"https://github.com/anrains/Coursera_Capstone/raw/master/manhattan.JPG\">"
   ]
  },
  {
   "cell_type": "code",
   "execution_count": null,
   "metadata": {},
   "outputs": [],
   "source": []
  }
 ],
 "metadata": {
  "kernelspec": {
   "display_name": "Python",
   "language": "python",
   "name": "conda-env-python-py"
  },
  "language_info": {
   "codemirror_mode": {
    "name": "ipython",
    "version": 3
   },
   "file_extension": ".py",
   "mimetype": "text/x-python",
   "name": "python",
   "nbconvert_exporter": "python",
   "pygments_lexer": "ipython3",
   "version": "3.6.11"
  }
 },
 "nbformat": 4,
 "nbformat_minor": 4
}
